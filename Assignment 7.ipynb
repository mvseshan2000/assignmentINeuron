{
 "cells": [
  {
   "cell_type": "markdown",
   "id": "ecec8951",
   "metadata": {},
   "source": [
    "### 1. Write a Python Program to find sum of array?"
   ]
  },
  {
   "cell_type": "code",
   "execution_count": 3,
   "id": "1e4cc5ba",
   "metadata": {},
   "outputs": [
    {
     "name": "stdout",
     "output_type": "stream",
     "text": [
      "Enter numbers separated by spaces: 1 2 3 4 5\n",
      "Sum of the array: 15\n"
     ]
    }
   ],
   "source": [
    "def array_sum(arr):\n",
    "    total = 0\n",
    "    for num in arr:\n",
    "        total += num\n",
    "    return total\n",
    "\n",
    "if __name__ == '__main__':\n",
    "    # Get input from the user\n",
    "\tnumbers = input(\"Enter numbers separated by spaces: \")\n",
    "\n",
    "\t# Convert the input string into a list of integers\n",
    "\tarray = [int(num) for num in numbers.split()]\n",
    "\n",
    "\t# Calculate the sum of the array\n",
    "\tresult = sum(array)\n",
    "\n",
    "\t# Print the sum of the array\n",
    "\tprint(\"Sum of the array:\", result)"
   ]
  },
  {
   "cell_type": "markdown",
   "id": "de179803",
   "metadata": {},
   "source": [
    "### 2. Write a Python Program to find largest element in an array?"
   ]
  },
  {
   "cell_type": "code",
   "execution_count": 5,
   "id": "f180774a",
   "metadata": {},
   "outputs": [
    {
     "name": "stdout",
     "output_type": "stream",
     "text": [
      "Enter numbers separated by spaces: 13 1 9 40\n",
      "Largest element in the array: 40\n"
     ]
    }
   ],
   "source": [
    "def find_largest_element(arr):\n",
    "    largest = arr[0]\n",
    "    for num in arr:\n",
    "        if num > largest:\n",
    "            largest = num\n",
    "    return largest\n",
    "\n",
    "if __name__ == '__main__':\n",
    "    # Get input from the user\n",
    "    numbers = input(\"Enter numbers separated by spaces: \")\n",
    "\n",
    "    # Split the input string into a list of substrings\n",
    "    number_list = numbers.split()\n",
    "\n",
    "    # Convert each element in the list to an integer\n",
    "    array = [int(num) for num in number_list]\n",
    "    \n",
    "    # Call the find_largest_element function\n",
    "    result = find_largest_element(array)\n",
    "    \n",
    "    # Print the largest element\n",
    "    print(\"Largest element in the array:\", result)"
   ]
  },
  {
   "cell_type": "markdown",
   "id": "b98e4b48",
   "metadata": {},
   "source": [
    "### 3. Write a Python Program for array rotation?"
   ]
  },
  {
   "cell_type": "code",
   "execution_count": 6,
   "id": "ccd4807a",
   "metadata": {},
   "outputs": [
    {
     "name": "stdout",
     "output_type": "stream",
     "text": [
      "Enter numbers separated by spaces: 0 1 2 3 4 \n",
      "Enter the rotation count: 2\n",
      "Rotated array: [2, 3, 4, 0, 1]\n"
     ]
    }
   ],
   "source": [
    "def rotate_array(arr, k):\n",
    "    n = len(arr)\n",
    "    k = k % n  # Adjust rotation for cases where k is greater than the length of the array\n",
    "    rotated = arr[k:] + arr[:k]\n",
    "    return rotated\n",
    "\n",
    "if __name__ == '__main__':\n",
    "    # Get input from the user\n",
    "    numbers = input(\"Enter numbers separated by spaces: \")\n",
    "    k = int(input(\"Enter the rotation count: \"))\n",
    "\n",
    "    # Convert the input string into a list of integers\n",
    "    array = list(map(int, numbers.split()))\n",
    "\n",
    "    # Call the rotate_array function\n",
    "    result = rotate_array(array, k)\n",
    "\n",
    "    # Print the rotated array\n",
    "    print(\"Rotated array:\", result)"
   ]
  },
  {
   "cell_type": "markdown",
   "id": "b7882dac",
   "metadata": {},
   "source": [
    "### 4. Write a Python Program to Split the array and add the first part to the end?"
   ]
  },
  {
   "cell_type": "code",
   "execution_count": 8,
   "id": "a66351a9",
   "metadata": {},
   "outputs": [
    {
     "name": "stdout",
     "output_type": "stream",
     "text": [
      "Enter numbers separated by spaces: 1 2 3 4 5 6 7\n",
      "Enter the split index: 5\n",
      "Modified array: [6, 7, 1, 2, 3, 4, 5]\n"
     ]
    }
   ],
   "source": [
    "def split_and_add(arr, split_index):\n",
    "    if split_index >= len(arr):\n",
    "        return arr\n",
    "    else:\n",
    "        split_arr = arr[split_index:] + arr[:split_index]\n",
    "        return split_arr\n",
    "\n",
    "if __name__ == '__main__':\n",
    "    # Get input from the user\n",
    "    numbers = input(\"Enter numbers separated by spaces: \")\n",
    "    split_index = int(input(\"Enter the split index: \"))\n",
    "\n",
    "    # Convert the input string into a list of integers\n",
    "    array = list(map(int, numbers.split()))\n",
    "\n",
    "    # Call the split_and_add function\n",
    "    result = split_and_add(array, split_index)\n",
    "\n",
    "    # Print the modified array\n",
    "    print(\"Modified array:\", result)"
   ]
  },
  {
   "cell_type": "markdown",
   "id": "01cf133b",
   "metadata": {},
   "source": [
    "### 5. Write a Python Program to check if given array is Monotonic?"
   ]
  },
  {
   "cell_type": "code",
   "execution_count": 13,
   "id": "d76169c0",
   "metadata": {},
   "outputs": [
    {
     "name": "stdout",
     "output_type": "stream",
     "text": [
      "Enter numbers separated by spaces: 1 3 5 4 8\n",
      "The array is not monotonic.\n"
     ]
    }
   ],
   "source": [
    "def is_monotonic(arr):\n",
    "    increasing = decreasing = True\n",
    "\n",
    "    for i in range(1, len(arr)):\n",
    "        if arr[i] < arr[i - 1]:\n",
    "            increasing = False\n",
    "        if arr[i] > arr[i - 1]:\n",
    "            decreasing = False\n",
    "\n",
    "    return increasing or decreasing\n",
    "\n",
    "if __name__ == '__main__':\n",
    "    # Get input from the user\n",
    "    numbers = input(\"Enter numbers separated by spaces: \")\n",
    "\n",
    "    # Convert the input string into a list of integers\n",
    "    array = list(map(int, numbers.split()))\n",
    "\n",
    "    # Call the is_monotonic function\n",
    "    result = is_monotonic(array)\n",
    "\n",
    "    # Print the result\n",
    "    if result:\n",
    "        print(\"The array is monotonic.\")\n",
    "    else:\n",
    "        print(\"The array is not monotonic.\")"
   ]
  },
  {
   "cell_type": "code",
   "execution_count": null,
   "id": "16a5dd7f",
   "metadata": {},
   "outputs": [],
   "source": []
  }
 ],
 "metadata": {
  "kernelspec": {
   "display_name": "Python 3 (ipykernel)",
   "language": "python",
   "name": "python3"
  },
  "language_info": {
   "codemirror_mode": {
    "name": "ipython",
    "version": 3
   },
   "file_extension": ".py",
   "mimetype": "text/x-python",
   "name": "python",
   "nbconvert_exporter": "python",
   "pygments_lexer": "ipython3",
   "version": "3.10.9"
  }
 },
 "nbformat": 4,
 "nbformat_minor": 5
}
