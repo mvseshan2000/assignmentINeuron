{
 "cells": [
  {
   "cell_type": "markdown",
   "id": "3987aa25",
   "metadata": {},
   "source": [
    "### 1. Write a Python Program to Add Two Matrices?"
   ]
  },
  {
   "cell_type": "code",
   "execution_count": 8,
   "id": "f26948c9",
   "metadata": {},
   "outputs": [
    {
     "name": "stdout",
     "output_type": "stream",
     "text": [
      "Enter the number of rows for matrix 1: 2\n",
      "Enter the number of columns for matrix 1: 2\n",
      "Enter the elements of matrix 1:\n",
      "1 2\n",
      "3 4\n",
      "Enter the number of rows for matrix 2: 2\n",
      "Enter the number of columns for matrix 2: 2\n",
      "Enter the elements of matrix 2:\n",
      "2 3\n",
      "4 5\n",
      "Result:\n",
      "[3, 5]\n",
      "[7, 9]\n"
     ]
    }
   ],
   "source": [
    "def add_matrices(matrix1, matrix2):\n",
    "    rows = len(matrix1)\n",
    "    columns = len(matrix1[0])\n",
    "    \n",
    "    # Create a new matrix to store the result\n",
    "    result = [[0] * columns for _ in range(rows)]\n",
    "    \n",
    "    # Add corresponding elements of the matrices\n",
    "    for i in range(rows):\n",
    "        for j in range(columns):\n",
    "            result[i][j] = matrix1[i][j] + matrix2[i][j]\n",
    "    \n",
    "    return result\n",
    "\n",
    "if __name__ == '__main__':\n",
    "    # Get input from the user for matrix 1\n",
    "    rows1 = int(input(\"Enter the number of rows for matrix 1: \"))\n",
    "    \n",
    "    columns1 = int(input(\"Enter the number of columns for matrix 1: \"))\n",
    "\n",
    "    matrix1 = []\n",
    "    print(\"Enter the elements of matrix 1:\")\n",
    "    for _ in range(rows1):\n",
    "        row = list(map(int, input().split()))\n",
    "        matrix1.append(row)\n",
    "\n",
    "    # Get input from the user for matrix 2\n",
    "    rows2 = int(input(\"Enter the number of rows for matrix 2: \"))\n",
    "    columns2 = int(input(\"Enter the number of columns for matrix 2: \"))\n",
    "\n",
    "    matrix2 = []\n",
    "    print(\"Enter the elements of matrix 2:\")\n",
    "    for _ in range(rows2):\n",
    "        row = list(map(int, input().split()))\n",
    "        matrix2.append(row)\n",
    "\n",
    "    # Check if matrices can be added\n",
    "    if rows1 != rows2 or columns1 != columns2:\n",
    "        print(\"Matrices cannot be added. Dimensions are not compatible.\")\n",
    "    else:\n",
    "        # Call the add_matrices function\n",
    "        result = add_matrices(matrix1, matrix2)\n",
    "    \n",
    "        # Print the result\n",
    "        print(\"Result:\")\n",
    "        for row in result:\n",
    "            print(row)"
   ]
  },
  {
   "cell_type": "markdown",
   "id": "d902a2db",
   "metadata": {},
   "source": [
    "### 2. Write a Python Program to Multiply Two Matrices?"
   ]
  },
  {
   "cell_type": "code",
   "execution_count": 11,
   "id": "918e7b11",
   "metadata": {},
   "outputs": [
    {
     "name": "stdout",
     "output_type": "stream",
     "text": [
      "Enter the number of rows for matrix 1: 2\n",
      "Enter the number of columns for matrix 1: 2\n",
      "Enter the elements of matrix 1:\n",
      "1 2\n",
      "3 4\n",
      "Enter the number of rows for matrix 2: 2\n",
      "Enter the number of columns for matrix 2: 2\n",
      "Enter the elements of matrix 2:\n",
      "1 2\n",
      "3 4\n",
      "Result:\n",
      "[7, 10]\n",
      "[15, 22]\n"
     ]
    }
   ],
   "source": [
    "def multiply_matrices(matrix1, matrix2):\n",
    "    rows1 = len(matrix1)\n",
    "    columns1 = len(matrix1[0])\n",
    "    rows2 = len(matrix2)\n",
    "    columns2 = len(matrix2[0])\n",
    "\n",
    "    if columns1 != rows2:\n",
    "        print(\"Matrices cannot be multiplied. Dimensions are not compatible.\")\n",
    "        return None\n",
    "\n",
    "    result = [[0] * columns2 for _ in range(rows1)]\n",
    "\n",
    "    for i in range(rows1):\n",
    "        for j in range(columns2):\n",
    "            for k in range(columns1):\n",
    "                result[i][j] += matrix1[i][k] * matrix2[k][j]\n",
    "\n",
    "    return result\n",
    "\n",
    "if __name__ == '__main__':\n",
    "    # Get input from the user for matrix 1\n",
    "    rows1 = int(input(\"Enter the number of rows for matrix 1: \"))\n",
    "    columns1 = int(input(\"Enter the number of columns for matrix 1: \"))\n",
    "\n",
    "    matrix1 = []\n",
    "    print(\"Enter the elements of matrix 1:\")\n",
    "    for _ in range(rows1):\n",
    "        row = list(map(int, input().split()))\n",
    "        matrix1.append(row)\n",
    "\n",
    "    # Get input from the user for matrix 2\n",
    "    rows2 = int(input(\"Enter the number of rows for matrix 2: \"))\n",
    "    columns2 = int(input(\"Enter the number of columns for matrix 2: \"))\n",
    "\n",
    "    matrix2 = []\n",
    "    print(\"Enter the elements of matrix 2:\")\n",
    "    for _ in range(rows2):\n",
    "        row = list(map(int, input().split()))\n",
    "        matrix2.append(row)\n",
    "\n",
    "    # Call the multiply_matrices function\n",
    "    result = multiply_matrices(matrix1, matrix2)\n",
    "\n",
    "    # Print the result\n",
    "    if result:\n",
    "        print(\"Result:\")\n",
    "        for row in result:\n",
    "            print(row)"
   ]
  },
  {
   "cell_type": "markdown",
   "id": "501dc111",
   "metadata": {},
   "source": [
    "### 3. Write a Python Program to Transpose a Matrix?"
   ]
  },
  {
   "cell_type": "code",
   "execution_count": 12,
   "id": "cdca433c",
   "metadata": {},
   "outputs": [
    {
     "name": "stdout",
     "output_type": "stream",
     "text": [
      "Enter the number of rows for the matrix: 3\n",
      "Enter the number of columns for the matrix: 2\n",
      "Enter the elements of the matrix:\n",
      "1 2\n",
      "3 4\n",
      "5 6\n",
      "Transposed matrix:\n",
      "[1, 3, 5]\n",
      "[2, 4, 6]\n"
     ]
    }
   ],
   "source": [
    "def transpose_matrix(matrix):\n",
    "    transposed = [[matrix[j][i] for j in range(len(matrix))] for i in range(len(matrix[0]))]\n",
    "    return transposed\n",
    "\n",
    "if __name__ == '__main__':\n",
    "    # Get input from the user for the matrix\n",
    "    rows = int(input(\"Enter the number of rows for the matrix: \"))\n",
    "    columns = int(input(\"Enter the number of columns for the matrix: \"))\n",
    "\n",
    "    matrix = []\n",
    "    print(\"Enter the elements of the matrix:\")\n",
    "    for _ in range(rows):\n",
    "        row = list(map(int, input().split()))\n",
    "        matrix.append(row)\n",
    "\n",
    "    # Call the transpose_matrix function\n",
    "    result = transpose_matrix(matrix)\n",
    "\n",
    "    # Print the result\n",
    "    print(\"Transposed matrix:\")\n",
    "    for row in result:\n",
    "        print(row)"
   ]
  },
  {
   "cell_type": "markdown",
   "id": "7ff17ed8",
   "metadata": {},
   "source": [
    "### 4. Write a Python Program to Sort Words in Alphabetic Order?\n"
   ]
  },
  {
   "cell_type": "code",
   "execution_count": 13,
   "id": "0343ac76",
   "metadata": {
    "scrolled": true
   },
   "outputs": [
    {
     "name": "stdout",
     "output_type": "stream",
     "text": [
      "Enter a sentence: The quick brown fox jumps over the lazy dog\n",
      "Sorted words:\n",
      "The\n",
      "brown\n",
      "dog\n",
      "fox\n",
      "jumps\n",
      "lazy\n",
      "over\n",
      "quick\n",
      "the\n"
     ]
    }
   ],
   "source": [
    "def sort_words(words):\n",
    "    sorted_words = sorted(words)\n",
    "    return sorted_words\n",
    "\n",
    "if __name__ == '__main__':\n",
    "    # Get input from the user\n",
    "    sentence = input(\"Enter a sentence: \")\n",
    "\n",
    "    # Split the sentence into words\n",
    "    words = sentence.split()\n",
    "\n",
    "    # Call the sort_words function\n",
    "    sorted_words = sort_words(words)\n",
    "\n",
    "    # Print the sorted words\n",
    "    print(\"Sorted words:\")\n",
    "    for word in sorted_words:\n",
    "        print(word)"
   ]
  },
  {
   "cell_type": "markdown",
   "id": "7969fd5f",
   "metadata": {},
   "source": [
    "### 5. Write a Python Program to Remove Punctuation From a String?\n"
   ]
  },
  {
   "cell_type": "code",
   "execution_count": 14,
   "id": "ed2d9774",
   "metadata": {},
   "outputs": [
    {
     "name": "stdout",
     "output_type": "stream",
     "text": [
      "Enter a string: abcdfsk. nqoa.//k\n",
      "String without punctuation: abcdfsk nqoak\n"
     ]
    }
   ],
   "source": [
    "import string\n",
    "\n",
    "def remove_punctuation(text):\n",
    "    # Create a translation table to remove punctuation\n",
    "    translator = str.maketrans('', '', string.punctuation)\n",
    "    \n",
    "    # Apply the translation table to remove punctuation\n",
    "    text_without_punct = text.translate(translator)\n",
    "    \n",
    "    return text_without_punct\n",
    "\n",
    "if __name__ == '__main__':\n",
    "    # Get input from the user\n",
    "    text = input(\"Enter a string: \")\n",
    "\n",
    "    # Call the remove_punctuation function\n",
    "    result = remove_punctuation(text)\n",
    "\n",
    "    # Print the result\n",
    "    print(\"String without punctuation:\", result)"
   ]
  }
 ],
 "metadata": {
  "kernelspec": {
   "display_name": "Python 3 (ipykernel)",
   "language": "python",
   "name": "python3"
  },
  "language_info": {
   "codemirror_mode": {
    "name": "ipython",
    "version": 3
   },
   "file_extension": ".py",
   "mimetype": "text/x-python",
   "name": "python",
   "nbconvert_exporter": "python",
   "pygments_lexer": "ipython3",
   "version": "3.10.9"
  }
 },
 "nbformat": 4,
 "nbformat_minor": 5
}
